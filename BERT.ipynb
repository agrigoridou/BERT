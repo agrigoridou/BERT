{
  "nbformat": 4,
  "nbformat_minor": 0,
  "metadata": {
    "colab": {
      "provenance": [],
      "authorship_tag": "ABX9TyOhfk2G69SibL/cteyNYaXv",
      "include_colab_link": true
    },
    "kernelspec": {
      "name": "python3",
      "display_name": "Python 3"
    },
    "language_info": {
      "name": "python"
    }
  },
  "cells": [
    {
      "cell_type": "markdown",
      "metadata": {
        "id": "view-in-github",
        "colab_type": "text"
      },
      "source": [
        "<a href=\"https://colab.research.google.com/github/agrigoridou/BERT/blob/main/BERT.ipynb\" target=\"_parent\"><img src=\"https://colab.research.google.com/assets/colab-badge.svg\" alt=\"Open In Colab\"/></a>"
      ]
    },
    {
      "cell_type": "markdown",
      "source": [],
      "metadata": {
        "id": "hxBpW5lcjmdc"
      }
    },
    {
      "cell_type": "code",
      "execution_count": null,
      "metadata": {
        "id": "cXgkUhhUjZeI"
      },
      "outputs": [],
      "source": [
        "!pip install torch torchvision torchaudio\n",
        "!pip install torchtext\n",
        "!pip install scikit-learn\n",
        "!pip install pandas\n",
        "!pip install tqdm"
      ]
    },
    {
      "cell_type": "code",
      "source": [
        "!pip install torch==1.13.0\n",
        "!pip install torchtext==0.14.0\n"
      ],
      "metadata": {
        "id": "DvaMr4NQjptS"
      },
      "execution_count": null,
      "outputs": []
    },
    {
      "cell_type": "code",
      "source": [
        "from google.colab import drive\n",
        "drive.mount('/content/drive')\n",
        "\n"
      ],
      "metadata": {
        "id": "ZVF7hadJjsjR"
      },
      "execution_count": null,
      "outputs": []
    },
    {
      "cell_type": "code",
      "source": [
        "with open(\"/content/drive/MyDrive/BERT/ner-bert.py\", \"r\") as file:\n",
        "    text = file.read()\n"
      ],
      "metadata": {
        "id": "7bTuslZtjvIv"
      },
      "execution_count": null,
      "outputs": []
    },
    {
      "cell_type": "code",
      "source": [
        "with open(\"/content/drive/MyDrive/BERT/ag-news-classification-dataset/train.csv\", \"r\") as file:\n",
        "    text = file.read()\n"
      ],
      "metadata": {
        "id": "6TdAkziqj14i"
      },
      "execution_count": null,
      "outputs": []
    },
    {
      "cell_type": "code",
      "source": [
        "with open(\"/content/drive/MyDrive/BERT/ag-news-classification-dataset/test.csv\", \"r\") as file:\n",
        "    text = file.read()\n"
      ],
      "metadata": {
        "id": "pV5acDhHj2ij"
      },
      "execution_count": null,
      "outputs": []
    },
    {
      "cell_type": "code",
      "source": [
        "# Διαβάζουμε το περιεχόμενο του αρχείου rnn.py\n",
        "with open('/content/drive/MyDrive/BERT/ner-bert.py', 'r') as file:\n",
        "    rnn_code = file.read()\n",
        "\n",
        "# Εμφανίζουμε το περιεχόμενο του αρχείου για να το δούμε\n",
        "print(rnn_code)\n"
      ],
      "metadata": {
        "id": "fMzFfQrgj4a0"
      },
      "execution_count": null,
      "outputs": []
    },
    {
      "cell_type": "code",
      "source": [
        "# Update paths in the RNN code\n",
        "updated_rnn_code = rnn_code.replace('ag-news-classification-dataset/train.csv', '/content/drive/MyDrive/RecurrentNeuralNetworks/ag-news-classification-dataset/train.csv')\n",
        "updated_rnn_code = updated_rnn_code.replace('ag-news-classification-dataset/test.csv', '/content/drive/MyDrive/RecurrentNeuralNetworks/ag-news-classification-dataset/test.csv')\n",
        "\n",
        "# Save the updated file to the correct location\n",
        "with open('/content/drive/MyDrive/BERT/ner-bert.py', 'w') as file:\n",
        "    file.write(updated_rnn_code)\n",
        "\n",
        "# Verify the updated code\n",
        "with open('/content/drive/MyDrive/BERT/ner-bert.py', 'r') as file:\n",
        "    rnn_code = file.read()\n",
        "\n",
        "# Print the updated content to verify\n",
        "print(rnn_code)\n"
      ],
      "metadata": {
        "id": "xQoy2xlXj9j5"
      },
      "execution_count": null,
      "outputs": []
    },
    {
      "cell_type": "markdown",
      "source": [
        "Task 1: Εκτέλεση του κώδικα"
      ],
      "metadata": {
        "id": "o3CmCETFkAem"
      }
    },
    {
      "cell_type": "code",
      "source": [
        "!python3 /content/drive/MyDrive/BERT/ner-bert.py\n"
      ],
      "metadata": {
        "id": "dvfHOSzYkBO_"
      },
      "execution_count": null,
      "outputs": []
    }
  ]
}